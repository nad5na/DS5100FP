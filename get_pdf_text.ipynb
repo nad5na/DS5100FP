{
 "cells": [
  {
   "cell_type": "markdown",
   "id": "b4cdd50e-aae6-4a35-96db-1a7379a35ab6",
   "metadata": {},
   "source": [
    "# Imports"
   ]
  },
  {
   "cell_type": "code",
   "execution_count": 15,
   "id": "29ed2ad8-2acc-4414-9d98-9f562181828f",
   "metadata": {},
   "outputs": [],
   "source": [
    "import pandas as pd\n",
    "import numpy as np\n",
    "import PyPDF2\n",
    "import os"
   ]
  },
  {
   "cell_type": "markdown",
   "id": "e38b89f5-e78c-4cf1-af2b-80952a652839",
   "metadata": {},
   "source": [
    "# Scraping PDFs"
   ]
  },
  {
   "cell_type": "code",
   "execution_count": null,
   "id": "c7dfc5a3-1da3-40ed-8dd6-268a71ae8d08",
   "metadata": {},
   "outputs": [],
   "source": [
    "df1 = open('Harry_Potter_1-JK_Rowling.pdf', 'rb')\n",
    "\n",
    "reader1 = PyPDF2.PdfReader(df1)\n",
    "num_pages1 = len(reader1.pages)\n",
    "\n",
    "text1 = ''\n",
    "for i in range(num_pages1):\n",
    "    page = reader1.pages[i]\n",
    "    text1 += page.extract_text()\n",
    "\n",
    "df1.close()"
   ]
  },
  {
   "cell_type": "code",
   "execution_count": null,
   "id": "1fa04a9a-db9e-49c1-a7f5-90f797e92bd0",
   "metadata": {},
   "outputs": [],
   "source": [
    "df2 = open('Harry_Potter_2-JK_Rowling.pdf', 'rb')\n",
    "\n",
    "reader2 = PyPDF2.PdfReader(df2)\n",
    "num_pages2 = len(reader2.pages)\n",
    "\n",
    "text2 = ''\n",
    "for i in range(num_pages2):\n",
    "    page = reader2.pages[i]\n",
    "    text2 += page.extract_text()\n",
    "\n",
    "df2.close()"
   ]
  },
  {
   "cell_type": "code",
   "execution_count": null,
   "id": "c37b70d6-4fc3-4784-8691-4d341a23ff24",
   "metadata": {},
   "outputs": [],
   "source": [
    "df3 = open('Harry_Potter_3-JK_Rowling.pdf', 'rb')\n",
    "\n",
    "reader3 = PyPDF2.PdfReader(df3)\n",
    "num_pages3 = len(reader3.pages)\n",
    "\n",
    "text3 = ''\n",
    "for i in range(num_pages3):\n",
    "    page = reader3.pages[i]\n",
    "    text3 += page.extract_text()\n",
    "\n",
    "df3.close()"
   ]
  },
  {
   "cell_type": "code",
   "execution_count": null,
   "id": "3134543a-5deb-4c5c-af2c-b431e60bf120",
   "metadata": {},
   "outputs": [],
   "source": [
    "df4 = open('Harry_Potter_4-JK_Rowling.pdf', 'rb')\n",
    "\n",
    "reader4 = PyPDF2.PdfReader(df4)\n",
    "num_pages4 = len(reader4.pages)\n",
    "\n",
    "text4 = ''\n",
    "for i in range(num_pages4):\n",
    "    page = reader4.pages[i]\n",
    "    text4 += page.extract_text()\n",
    "\n",
    "df4.close()"
   ]
  },
  {
   "cell_type": "code",
   "execution_count": null,
   "id": "d1645d43-f36f-46b0-b709-603e121c0aef",
   "metadata": {},
   "outputs": [],
   "source": [
    "df5 = open('Harry_Potter_5-JK_Rowling.pdf', 'rb')\n",
    "\n",
    "reader5 = PyPDF2.PdfReader(df5)\n",
    "num_pages5 = len(reader5.pages)\n",
    "\n",
    "text5 = ''\n",
    "for i in range(num_pages5):\n",
    "    page = reader5.pages[i]\n",
    "    text5 += page.extract_text()\n",
    "\n",
    "df5.close()"
   ]
  },
  {
   "cell_type": "code",
   "execution_count": null,
   "id": "9cb957a6-e65c-4b0c-985e-cadebc0663e4",
   "metadata": {},
   "outputs": [],
   "source": [
    "df6 = open('Harry_Potter_6-JK_Rowling.pdf', 'rb')\n",
    "\n",
    "reader6 = PyPDF2.PdfReader(df6)\n",
    "num_pages6 = len(reader6.pages)\n",
    "\n",
    "text6 = ''\n",
    "for i in range(num_pages6):\n",
    "    page = reader6.pages[i]\n",
    "    text6 += page.extract_text()\n",
    "\n",
    "df6.close()"
   ]
  },
  {
   "cell_type": "code",
   "execution_count": null,
   "id": "4e9be1e9-d867-481d-a8fa-60ceb0976b03",
   "metadata": {},
   "outputs": [],
   "source": [
    "df7 = open('Harry_Potter_7-JK_Rowling.pdf', 'rb')\n",
    "\n",
    "reader7 = PyPDF2.PdfReader(df7)\n",
    "num_pages7 = len(reader7.pages)\n",
    "\n",
    "text7 = ''\n",
    "for i in range(num_pages7):\n",
    "    page = reader7.pages[i]\n",
    "    text7 += page.extract_text()\n",
    "\n",
    "df7.close()"
   ]
  },
  {
   "cell_type": "markdown",
   "id": "4fcfe2af-8a6f-454e-91e5-c297b0452246",
   "metadata": {},
   "source": [
    "# Inspecting Text Files\n",
    "\n",
    "### making small manual changes due to the PDF formatting being weird"
   ]
  },
  {
   "cell_type": "code",
   "execution_count": 25,
   "id": "3c24a42b-227c-4585-9e72-38a6bb59d2b1",
   "metadata": {},
   "outputs": [],
   "source": [
    "with open('text1', 'w') as f:\n",
    "    f.write(text1)"
   ]
  },
  {
   "cell_type": "code",
   "execution_count": 26,
   "id": "d6107e32-fa21-4860-8b21-ca52bb6eddc0",
   "metadata": {},
   "outputs": [],
   "source": [
    "with open('text2', 'w') as f:\n",
    "    f.write(text2)"
   ]
  },
  {
   "cell_type": "code",
   "execution_count": 27,
   "id": "5da38852-3cfb-4c96-9f8a-e2675224c168",
   "metadata": {},
   "outputs": [],
   "source": [
    "with open('text3', 'w') as f:\n",
    "    f.write(text3)"
   ]
  },
  {
   "cell_type": "code",
   "execution_count": 28,
   "id": "74dd43aa-9d50-4886-92b3-7408abe615c7",
   "metadata": {},
   "outputs": [],
   "source": [
    "with open('text4', 'w') as f:\n",
    "    f.write(text4)"
   ]
  },
  {
   "cell_type": "code",
   "execution_count": 29,
   "id": "ca488138-158c-4bd8-bc44-8cadfcd4adbb",
   "metadata": {},
   "outputs": [],
   "source": [
    "with open('text5', 'w') as f:\n",
    "    f.write(text5)"
   ]
  },
  {
   "cell_type": "code",
   "execution_count": 30,
   "id": "23572285-1a26-488c-8f91-b36cf3440354",
   "metadata": {},
   "outputs": [],
   "source": [
    "with open('text6', 'w') as f:\n",
    "    f.write(text6)"
   ]
  },
  {
   "cell_type": "code",
   "execution_count": 31,
   "id": "9f3e49f8-9faf-4311-a2d4-5c02f773821c",
   "metadata": {},
   "outputs": [],
   "source": [
    "with open('text7', 'w') as f:\n",
    "    f.write(text7)"
   ]
  },
  {
   "cell_type": "markdown",
   "id": "19d6f3bc-def4-4161-a920-05f3de8cba91",
   "metadata": {},
   "source": [
    "# Loading the better-formatted PDFs back in"
   ]
  },
  {
   "cell_type": "code",
   "execution_count": null,
   "id": "8adba852-d940-4104-ba77-bcc09c4663f8",
   "metadata": {},
   "outputs": [],
   "source": [
    "with open('text1', 'r') as f:\n",
    "    hp1_text = f.read()"
   ]
  },
  {
   "cell_type": "code",
   "execution_count": null,
   "id": "b37c1d1f-5645-429d-92e4-21bf6a60fc39",
   "metadata": {},
   "outputs": [],
   "source": [
    "with open('text2', 'r') as f:\n",
    "    hp2_text = f.read()"
   ]
  },
  {
   "cell_type": "code",
   "execution_count": null,
   "id": "e29fe99a-ebca-4245-bc53-e983295f2c18",
   "metadata": {},
   "outputs": [],
   "source": [
    "with open('text3', 'r') as f:\n",
    "    hp3_text = f.read()"
   ]
  },
  {
   "cell_type": "code",
   "execution_count": null,
   "id": "7b83ba15-c4ba-4503-94d6-523fcde2b8c4",
   "metadata": {},
   "outputs": [],
   "source": [
    "with open('text4', 'r') as f:\n",
    "    hp4_text = f.read()"
   ]
  },
  {
   "cell_type": "code",
   "execution_count": null,
   "id": "bb81dbce-c3a9-4b6f-a78b-0601df843589",
   "metadata": {},
   "outputs": [],
   "source": [
    "with open('text5', 'r') as f:\n",
    "    hp5_text = f.read()"
   ]
  },
  {
   "cell_type": "code",
   "execution_count": null,
   "id": "a5fb27ae-37f5-489e-a7eb-761f1c249312",
   "metadata": {},
   "outputs": [],
   "source": [
    "with open('text6', 'r') as f:\n",
    "    hp6_text = f.read()"
   ]
  },
  {
   "cell_type": "code",
   "execution_count": null,
   "id": "4e08ee87-86d0-43c5-bba5-f48c501477e9",
   "metadata": {},
   "outputs": [],
   "source": [
    "with open('text7', 'r') as f:\n",
    "    hp7_text = f.read()"
   ]
  },
  {
   "cell_type": "markdown",
   "id": "ed004e39-1c90-4301-b06d-78dac26dfdd7",
   "metadata": {},
   "source": [
    "# Use these text files for Project Now"
   ]
  }
 ],
 "metadata": {
  "kernelspec": {
   "display_name": "Python 3 (ipykernel)",
   "language": "python",
   "name": "python3"
  },
  "language_info": {
   "codemirror_mode": {
    "name": "ipython",
    "version": 3
   },
   "file_extension": ".py",
   "mimetype": "text/x-python",
   "name": "python",
   "nbconvert_exporter": "python",
   "pygments_lexer": "ipython3",
   "version": "3.9.12"
  }
 },
 "nbformat": 4,
 "nbformat_minor": 5
}
